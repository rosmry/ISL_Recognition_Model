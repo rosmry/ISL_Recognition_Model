{
  "nbformat": 4,
  "nbformat_minor": 0,
  "metadata": {
    "colab": {
      "provenance": []
    },
    "kernelspec": {
      "name": "python3",
      "display_name": "Python 3"
    },
    "language_info": {
      "name": "python"
    }
  },
  "cells": [
    {
      "cell_type": "code",
      "source": [
        "from google.colab import drive\n",
        "drive.mount('/content/drive')"
      ],
      "metadata": {
        "colab": {
          "base_uri": "https://localhost:8080/"
        },
        "id": "9RoDiag1j1bb",
        "outputId": "a05b51f3-97a2-473a-c0c8-eb09ba4084d1"
      },
      "execution_count": null,
      "outputs": [
        {
          "output_type": "stream",
          "name": "stdout",
          "text": [
            "Mounted at /content/drive\n"
          ]
        }
      ]
    },
    {
      "cell_type": "code",
      "source": [
        "import os\n",
        "import cv2\n",
        "import numpy as np\n",
        "\n",
        "# Set the frame rate (frames per second)\n",
        "frame_rate = 30\n",
        "# Set the target frame count for a 8-second video\n",
        "target_frame_count = 8 * frame_rate  # 8 seconds * 30 FPS = 240 frames\n",
        "# Target frame size (e.g., 224x224)\n",
        "target_frame_size = (224, 224)\n",
        "\n",
        "def load_video(video_path):\n",
        "    cap = cv2.VideoCapture(video_path)\n",
        "    frames = []\n",
        "    while cap.isOpened():\n",
        "        ret, frame = cap.read()\n",
        "        if not ret:\n",
        "            break\n",
        "        frames.append(frame)\n",
        "    cap.release()\n",
        "    return frames\n",
        "\n",
        "def resample_frames(frames, target_frame_count):\n",
        "    frame_count = len(frames)\n",
        "    indices = np.linspace(0, frame_count - 1, target_frame_count).astype(np.int32)\n",
        "    resampled_frames = [frames[i] for i in indices]\n",
        "    return resampled_frames\n",
        "\n",
        "def preprocess_frame(frame, target_size):\n",
        "    # Resize frame\n",
        "    frame = cv2.resize(frame, target_size)\n",
        "    # Normalize pixel values to [0, 1]\n",
        "    frame = frame / 255.0\n",
        "    return frame\n",
        "\n",
        "def save_video(frames, save_path, fps=30):\n",
        "    if len(frames) == 0:\n",
        "        return\n",
        "    height, width, layers = frames[0].shape\n",
        "    fourcc = cv2.VideoWriter_fourcc(*'mp4v')\n",
        "    video = cv2.VideoWriter(save_path, fourcc, fps, (width, height))\n",
        "    for frame in frames:\n",
        "        frame = (frame * 255).astype(np.uint8)\n",
        "        video.write(frame)\n",
        "    video.release()\n",
        "\n",
        "# Base directory containing original videos\n",
        "base_dir = '/content/drive/MyDrive/Sign_language_dataset'  # Update with your base directory path\n",
        "# Directory to save processed videos\n",
        "processed_base_dir = '/content/drive/MyDrive/processed_sign_language_dataset'  # Update with your desired save directory path\n",
        "\n",
        "# Process each folder (each word)\n",
        "for word_folder in os.listdir(base_dir):\n",
        "    word_folder_path = os.path.join(base_dir, word_folder)\n",
        "    if os.path.isdir(word_folder_path):\n",
        "        processed_word_folder_path = os.path.join(processed_base_dir, word_folder)\n",
        "        os.makedirs(processed_word_folder_path, exist_ok=True)\n",
        "\n",
        "        # Process each video in the word folder\n",
        "        for filename in os.listdir(word_folder_path):\n",
        "            if filename.endswith(\".mp4\"):\n",
        "                video_path = os.path.join(word_folder_path, filename)\n",
        "                frames = load_video(video_path)\n",
        "\n",
        "                # Resample frames to target_frame_count\n",
        "                resampled_frames = resample_frames(frames, target_frame_count)\n",
        "\n",
        "                # Preprocess frames (resize and normalize)\n",
        "                preprocessed_frames = [preprocess_frame(frame, target_frame_size) for frame in resampled_frames]\n",
        "\n",
        "                # Debugging: Check the dimensions of the preprocessed frames\n",
        "                for frame in preprocessed_frames:\n",
        "                    assert frame.shape == (224, 224, 3), f\"Frame shape mismatch: {frame.shape}\"\n",
        "\n",
        "                # Save processed video\n",
        "                save_path = os.path.join(processed_word_folder_path, filename)\n",
        "                save_video(preprocessed_frames, save_path)\n",
        "\n",
        "print(\"Video preprocessing complete. Processed videos are saved in:\", processed_base_dir)\n"
      ],
      "metadata": {
        "id": "X5H2GntW_rfI"
      },
      "execution_count": null,
      "outputs": []
    }
  ]
}